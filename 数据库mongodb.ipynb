{
 "cells": [
  {
   "cell_type": "code",
   "execution_count": 15,
   "metadata": {
    "collapsed": true
   },
   "outputs": [],
   "source": [
    "import numpy as np\n",
    "import pandas as pd\n",
    "import pymongo"
   ]
  },
  {
   "cell_type": "code",
   "execution_count": 5,
   "metadata": {
    "collapsed": true
   },
   "outputs": [],
   "source": [
    "# 连接MongoDB\n",
    "client = pymongo.MongoClient(host='localhost',port=27017)\n",
    "# client = MongoClient('mongodb://localhost:27017/')"
   ]
  },
  {
   "cell_type": "code",
   "execution_count": 6,
   "metadata": {
    "collapsed": true
   },
   "outputs": [],
   "source": [
    "# 指定数据库\n",
    "db = client.test\n",
    "# db = client['test']"
   ]
  },
  {
   "cell_type": "code",
   "execution_count": 7,
   "metadata": {
    "collapsed": true
   },
   "outputs": [],
   "source": [
    "#  指定集合\n",
    "collection = db.students\n",
    "# collection = db['students']"
   ]
  },
  {
   "cell_type": "code",
   "execution_count": 8,
   "metadata": {},
   "outputs": [
    {
     "name": "stdout",
     "output_type": "stream",
     "text": [
      "<pymongo.results.InsertOneResult object at 0x112ea0708>\n"
     ]
    }
   ],
   "source": [
    "# 插入数据\n",
    "student = {'id':'20170101',\n",
    "           'name':'jordan',\n",
    "           'age':20,\n",
    "           'gender':'male'}\n",
    "result = collection.insert_one(student)\n",
    "print(result)"
   ]
  },
  {
   "cell_type": "code",
   "execution_count": 9,
   "metadata": {},
   "outputs": [
    {
     "name": "stdout",
     "output_type": "stream",
     "text": [
      "5cad5c91fb1c6e1028c65e90\n"
     ]
    }
   ],
   "source": [
    "print(result.inserted_id)"
   ]
  },
  {
   "cell_type": "code",
   "execution_count": 11,
   "metadata": {},
   "outputs": [
    {
     "name": "stdout",
     "output_type": "stream",
     "text": [
      "<pymongo.results.InsertManyResult object at 0x112dc8708>\n",
      "[ObjectId('5cad5d61fb1c6e1028c65e93'), ObjectId('5cad5d61fb1c6e1028c65e94')]\n"
     ]
    }
   ],
   "source": [
    "# \n",
    "student1 = {'id':'20170102',\n",
    "           'name':'tom',\n",
    "           'age':21,\n",
    "           'gender':'male'}\n",
    "student2 = {'id':'20170101',\n",
    "           'name':'mary',\n",
    "           'age':22,\n",
    "           'gender':'female'}\n",
    "results = collection.insert_many([student1,student2])\n",
    "print(results)\n",
    "print(results.inserted_ids)"
   ]
  },
  {
   "cell_type": "code",
   "execution_count": 12,
   "metadata": {},
   "outputs": [
    {
     "name": "stdout",
     "output_type": "stream",
     "text": [
      "<class 'dict'>\n",
      "{'_id': ObjectId('5cad5d40fb1c6e1028c65e92'), 'id': '20170101', 'name': 'mary', 'age': 22, 'gender': 'female'}\n"
     ]
    }
   ],
   "source": [
    "# 查询\n",
    "result = collection.find_one({'name':'mary'})\n",
    "print(type(result))\n",
    "print(result)"
   ]
  },
  {
   "cell_type": "code",
   "execution_count": 30,
   "metadata": {},
   "outputs": [
    {
     "name": "stdout",
     "output_type": "stream",
     "text": [
      "<class 'pymongo.cursor.Cursor'>\n",
      "<pymongo.cursor.Cursor object at 0x11b99be80>\n"
     ]
    }
   ],
   "source": [
    "result = collection.find({'gender':'male'})\n",
    "print(type(result))\n",
    "print(result)"
   ]
  },
  {
   "cell_type": "code",
   "execution_count": 31,
   "metadata": {},
   "outputs": [
    {
     "name": "stdout",
     "output_type": "stream",
     "text": [
      "{'_id': ObjectId('5cad5c91fb1c6e1028c65e90'), 'id': '20170101', 'name': 'jordan', 'age': 20, 'gender': 'male'}\n",
      "{'_id': ObjectId('5cad5d40fb1c6e1028c65e91'), 'id': '20170102', 'name': 'tom', 'age': 21, 'gender': 'male'}\n",
      "{'_id': ObjectId('5cad5d61fb1c6e1028c65e93'), 'id': '20170102', 'name': 'tom', 'age': 21, 'gender': 'male'}\n"
     ]
    }
   ],
   "source": [
    "for row in result:\n",
    "    print(row)"
   ]
  },
  {
   "cell_type": "code",
   "execution_count": 32,
   "metadata": {},
   "outputs": [
    {
     "data": {
      "text/plain": [
       "<pymongo.results.InsertManyResult at 0x11bb8acc8>"
      ]
     },
     "execution_count": 32,
     "metadata": {},
     "output_type": "execute_result"
    }
   ],
   "source": [
    "student3 = {'id':'20170103',\n",
    "           'name':'jack',\n",
    "           'age':20,\n",
    "           'gender':'male'}\n",
    "student4 = {'id':'20170104',\n",
    "           'name':'hill',\n",
    "           'age':23,\n",
    "           'gender':'female'}\n",
    "collection.insert_many([student3,student4])"
   ]
  },
  {
   "cell_type": "code",
   "execution_count": 33,
   "metadata": {},
   "outputs": [
    {
     "name": "stdout",
     "output_type": "stream",
     "text": [
      "{'_id': ObjectId('5cad5d40fb1c6e1028c65e91'), 'id': '20170102', 'name': 'tom', 'age': 21, 'gender': 'male'}\n",
      "{'_id': ObjectId('5cad5d40fb1c6e1028c65e92'), 'id': '20170101', 'name': 'mary', 'age': 22, 'gender': 'female'}\n",
      "{'_id': ObjectId('5cad5d61fb1c6e1028c65e93'), 'id': '20170102', 'name': 'tom', 'age': 21, 'gender': 'male'}\n",
      "{'_id': ObjectId('5cad5d61fb1c6e1028c65e94'), 'id': '20170101', 'name': 'mary', 'age': 22, 'gender': 'female'}\n",
      "{'_id': ObjectId('5cadba6cfb1c6e1028c65e96'), 'id': '20170104', 'name': 'hill', 'age': 23, 'gender': 'female'}\n"
     ]
    }
   ],
   "source": [
    "results = collection.find({'age':{'$gt':20}})\n",
    "for row in results:\n",
    "    print(row)"
   ]
  },
  {
   "cell_type": "code",
   "execution_count": 36,
   "metadata": {},
   "outputs": [
    {
     "name": "stdout",
     "output_type": "stream",
     "text": [
      "{'_id': ObjectId('5cad5c91fb1c6e1028c65e90'), 'id': '20170101', 'name': 'jordan', 'age': 20, 'gender': 'male'}\n",
      "{'_id': ObjectId('5cadba6cfb1c6e1028c65e95'), 'id': '20170103', 'name': 'jack', 'age': 20, 'gender': 'male'}\n"
     ]
    }
   ],
   "source": [
    "# 正则表达式\n",
    "results = collection.find({'name':{'$regex':'^j'}})\n",
    "for row in results:\n",
    "    print(row)"
   ]
  },
  {
   "cell_type": "code",
   "execution_count": 38,
   "metadata": {},
   "outputs": [
    {
     "name": "stdout",
     "output_type": "stream",
     "text": [
      "2\n"
     ]
    },
    {
     "name": "stderr",
     "output_type": "stream",
     "text": [
      "/Users/brianlee/anaconda3/lib/python3.6/site-packages/ipykernel_launcher.py:2: DeprecationWarning: count is deprecated. Use Collection.count_documents instead.\n",
      "  \n"
     ]
    }
   ],
   "source": [
    "# 计数\n",
    "results = collection.find({'age':20}).count()\n",
    "print(results)"
   ]
  },
  {
   "cell_type": "code",
   "execution_count": 39,
   "metadata": {},
   "outputs": [
    {
     "name": "stdout",
     "output_type": "stream",
     "text": [
      "['hill', 'jack', 'jordan', 'mary', 'mary', 'tom', 'tom']\n"
     ]
    }
   ],
   "source": [
    "# 排序\n",
    "results = collection.find().sort('name',pymongo.ASCENDING)\n",
    "print([result['name'] for result in results])"
   ]
  },
  {
   "cell_type": "code",
   "execution_count": 40,
   "metadata": {},
   "outputs": [
    {
     "name": "stdout",
     "output_type": "stream",
     "text": [
      "['jordan', 'mary', 'mary', 'tom', 'tom']\n"
     ]
    }
   ],
   "source": [
    "# 偏移\n",
    "results = collection.find().sort('name',pymongo.ASCENDING).skip(2)\n",
    "print([result['name'] for result in results])"
   ]
  },
  {
   "cell_type": "code",
   "execution_count": 41,
   "metadata": {},
   "outputs": [
    {
     "name": "stdout",
     "output_type": "stream",
     "text": [
      "['hill', 'jack']\n"
     ]
    }
   ],
   "source": [
    "results = collection.find().sort('name',pymongo.ASCENDING).limit(2)\n",
    "print([result['name'] for result in results])"
   ]
  },
  {
   "cell_type": "code",
   "execution_count": 42,
   "metadata": {},
   "outputs": [
    {
     "data": {
      "text/plain": [
       "<pymongo.cursor.Cursor at 0x11c3f6a20>"
      ]
     },
     "execution_count": 42,
     "metadata": {},
     "output_type": "execute_result"
    }
   ],
   "source": [
    "from bson.objectid import ObjectId\n",
    "collection.find({'_id':{\"$gt\":ObjectId('593278c815c2602678bb2b8d')}})"
   ]
  },
  {
   "cell_type": "code",
   "execution_count": 43,
   "metadata": {},
   "outputs": [
    {
     "name": "stdout",
     "output_type": "stream",
     "text": [
      "1 1\n"
     ]
    }
   ],
   "source": [
    "# 更新\n",
    "condition = {'name':'tom'}\n",
    "student = collection.find_one(condition)\n",
    "student['name'] = 'air'\n",
    "result = collection.update_one(condition,{'$set':student})\n",
    "print(result.matched_count,result.modified_count)"
   ]
  },
  {
   "cell_type": "code",
   "execution_count": 46,
   "metadata": {},
   "outputs": [
    {
     "name": "stdout",
     "output_type": "stream",
     "text": [
      "1 1\n"
     ]
    }
   ],
   "source": [
    "condition = {'name':'mary'}\n",
    "student = collection.find_one(condition)\n",
    "student['name'] = 'alice'\n",
    "result = collection.update_one(condition,{'$set':student})\n",
    "print(result.matched_count,result.modified_count)"
   ]
  },
  {
   "cell_type": "code",
   "execution_count": 47,
   "metadata": {},
   "outputs": [
    {
     "name": "stdout",
     "output_type": "stream",
     "text": [
      "2 2\n"
     ]
    }
   ],
   "source": [
    "condition = {'age':20}\n",
    "students = collection.find(condition)\n",
    "result = collection.update_many(condition,{'$inc':{'age':1}})\n",
    "print(result.matched_count,result.modified_count)"
   ]
  },
  {
   "cell_type": "code",
   "execution_count": 49,
   "metadata": {},
   "outputs": [
    {
     "name": "stderr",
     "output_type": "stream",
     "text": [
      "/Users/brianlee/anaconda3/lib/python3.6/site-packages/ipykernel_launcher.py:2: DeprecationWarning: remove is deprecated. Use delete_one or delete_many instead.\n",
      "  \n"
     ]
    },
    {
     "data": {
      "text/plain": [
       "{'n': 1, 'ok': 1.0}"
      ]
     },
     "execution_count": 49,
     "metadata": {},
     "output_type": "execute_result"
    }
   ],
   "source": [
    "# 删除\n",
    "collection.remove({'name':'jack'})"
   ]
  },
  {
   "cell_type": "code",
   "execution_count": 50,
   "metadata": {},
   "outputs": [
    {
     "name": "stdout",
     "output_type": "stream",
     "text": [
      "1\n",
      "3\n"
     ]
    }
   ],
   "source": [
    "# delete_one()即删除第一条符合条件的数据，delete_many()即删除所有符合条件的数据。\n",
    "result1 = collection.delete_one({'name':'tom'})\n",
    "print(result1.deleted_count)\n",
    "result2 = collection.delete_many({'age':{'$gte':22}})\n",
    "print(result2.deleted_count)"
   ]
  },
  {
   "cell_type": "code",
   "execution_count": null,
   "metadata": {
    "collapsed": true
   },
   "outputs": [],
   "source": [
    "# 聚合管道\n",
    "collection.aggregate(\n",
    "                     [\n",
    "                       { '$match': { status: \"A\" } },\n",
    "                       { '$group': { _id: \"$cust_id\", total: { $sum: \"$amount\" } } },\n",
    "                       {' $sort': { total: -1 } },\n",
    "                       { '$limit': 2 }\n",
    "                     ])"
   ]
  },
  {
   "cell_type": "markdown",
   "metadata": {},
   "source": [
    "https://docs.mongodb.com/manual/reference/operator/query/"
   ]
  },
  {
   "cell_type": "markdown",
   "metadata": {},
   "source": [
    "#其他操作\n",
    "PyMongo还提供了一些组合方法，如find_one_and_delete()、find_one_and_replace()和find_one_and_update()，\n",
    "它们是查找后删除、替换和更新操作，其用法与上述方法基本一致。\n",
    "另外，还可以对索引进行操作，相关方法有create_index()、create_indexes()和drop_index()等。"
   ]
  },
  {
   "cell_type": "code",
   "execution_count": null,
   "metadata": {
    "collapsed": true
   },
   "outputs": [],
   "source": [
    "# and\n",
    "#collection.find( { '$and': [ { 'price': { '$ne': 1.99 } }, { 'price': { '$exists': true } } ] } )\n",
    "# nor\n",
    "# collection.find( { '$nor': [ { 'price': 1.99 }, { 'qty': { '$lt': 20 } }, { 'sale': true } ] } )\n",
    "# not\n",
    "#collection.find( { item: { $not: { $regex: \"^p.*\" } } } )\n",
    "# or\n",
    "# collection.find( { $or: [ { quantity: { $lt: 20 } }, { price: 10 } ] } )"
   ]
  },
  {
   "cell_type": "code",
   "execution_count": null,
   "metadata": {
    "collapsed": true
   },
   "outputs": [],
   "source": []
  }
 ],
 "metadata": {
  "kernelspec": {
   "display_name": "Python 3",
   "language": "python",
   "name": "python3"
  },
  "language_info": {
   "codemirror_mode": {
    "name": "ipython",
    "version": 3
   },
   "file_extension": ".py",
   "mimetype": "text/x-python",
   "name": "python",
   "nbconvert_exporter": "python",
   "pygments_lexer": "ipython3",
   "version": "3.6.8"
  }
 },
 "nbformat": 4,
 "nbformat_minor": 2
}
