{
 "cells": [
  {
   "cell_type": "code",
   "execution_count": 7,
   "metadata": {},
   "outputs": [
    {
     "name": "stdout",
     "output_type": "stream",
     "text": [
      "Database version : 8.0.15 \n"
     ]
    }
   ],
   "source": [
    "# 创建数据库\n",
    "import pymysql\n",
    " \n",
    "# 打开数据库连接\n",
    "db = pymysql.connect(host=\"localhost\",user=\"root\",password=\"Lxk815714\",port=3306)\n",
    " \n",
    "# 使用 cursor() 方法创建一个游标对象 cursor\n",
    "cursor = db.cursor()\n",
    " \n",
    "# 使用 execute()  方法执行 SQL 查询 \n",
    "cursor.execute(\"SELECT VERSION()\")\n",
    " \n",
    "# 使用 fetchone() 方法获取单条数据.\n",
    "data = cursor.fetchone()\n",
    "# 创建数据库\n",
    "cursor.execute('create database spiders')\n",
    "print (\"Database version : %s \" % data)\n",
    " \n",
    "# 关闭数据库连接\n",
    "db.close()"
   ]
  },
  {
   "cell_type": "code",
   "execution_count": 11,
   "metadata": {},
   "outputs": [
    {
     "name": "stderr",
     "output_type": "stream",
     "text": [
      "/Users/brianlee/anaconda3/lib/python3.6/site-packages/pymysql/cursors.py:170: Warning: (1051, \"Unknown table 'spiders.students'\")\n",
      "  result = self._query(query)\n"
     ]
    }
   ],
   "source": [
    "# 创建数据表\n",
    "\n",
    "# 打开数据库连接\n",
    "db = pymysql.connect(host=\"localhost\",user=\"root\",password=\"Lxk815714\",port=3306,db='spiders')\n",
    " \n",
    "# 使用 cursor() 方法创建一个游标对象 cursor\n",
    "cursor = db.cursor()\n",
    " \n",
    "# 使用 execute() 方法执行 SQL，如果表存在则删除\n",
    "cursor.execute(\"drop table if exists students\")\n",
    " \n",
    "# 使用预处理语句创建表\n",
    "sql = '''\n",
    "create table students\n",
    "(id varchar(255) primary key,\n",
    "name varchar(255) not null,\n",
    "age int not null)'''\n",
    " \n",
    "cursor.execute(sql)\n",
    " \n",
    "# 关闭数据库连接\n",
    "db.close()"
   ]
  },
  {
   "cell_type": "code",
   "execution_count": 12,
   "metadata": {
    "collapsed": true
   },
   "outputs": [],
   "source": [
    "# 数据库插入操作\n",
    "# 打开数据库连接\n",
    "s_id = '2012001'\n",
    "user = 'Bob'\n",
    "age = 20\n",
    "db = pymysql.connect(host=\"localhost\",user=\"root\",password=\"Lxk815714\",port=3306,db='spiders')\n",
    " \n",
    "# 使用cursor()方法获取操作游标 \n",
    "cursor = db.cursor()\n",
    "\n",
    "# SQL 插入语句\n",
    "sql = \"\"\"insert into students \n",
    "values(%s,%s,%i)\"\"\"\n",
    "try:\n",
    "   # 执行sql语句\n",
    "   cursor.execute(sql,(s_id,user,age))\n",
    "   # 提交到数据库执行\n",
    "   db.commit()\n",
    "except:\n",
    "   # 如果发生错误则回滚\n",
    "   db.rollback()\n",
    "\n",
    "db.close()"
   ]
  },
  {
   "cell_type": "code",
   "execution_count": 25,
   "metadata": {},
   "outputs": [
    {
     "name": "stdout",
     "output_type": "stream",
     "text": [
      "succeeded\n"
     ]
    }
   ],
   "source": [
    "data = {'id':'2012002',\n",
    "       'name':'Mary',\n",
    "       'age':21}\n",
    "table = 'students'\n",
    "keys = ','.join(data.keys())\n",
    "values = ','.join(['%s']*len(data))\n",
    "sql = 'insert into {table} ({keys}) values ({values})'.format(table = table,keys = keys,values = values)\n",
    "db = pymysql.connect(host=\"localhost\",user=\"root\",password=\"Lxk815714\",port=3306,db='spiders')\n",
    " \n",
    "# 使用cursor()方法获取操作游标 \n",
    "cursor = db.cursor()\n",
    "try:\n",
    "    if cursor.execute(sql,tuple(data.values())):\n",
    "        print('succeeded')\n",
    "        db.commit()\n",
    "except:\n",
    "    print('Failed')\n",
    "    db.rollback()\n",
    "db.close()"
   ]
  },
  {
   "cell_type": "markdown",
   "metadata": {},
   "source": [
    "Python查询Mysql使用 fetchone() 方法获取单条数据, 使用fetchall() 方法获取多条数据。\n",
    "\n",
    "fetchone(): 该方法获取下一个查询结果集。结果集是一个对象\n",
    "fetchall(): 接收全部的返回结果行.\n",
    "rowcount: 这是一个只读属性，并返回执行execute()方法后影响的行数。"
   ]
  },
  {
   "cell_type": "code",
   "execution_count": 27,
   "metadata": {},
   "outputs": [
    {
     "name": "stdout",
     "output_type": "stream",
     "text": [
      "rowcounts: 1\n",
      "resultstype; <class 'tuple'>\n",
      "results; (('2012002', 'Mary', 21),)\n",
      "('2012002', 'Mary', 21)\n"
     ]
    }
   ],
   "source": [
    "# 数据库查询\n",
    "sql = 'select * from students where age>20'\n",
    "db = pymysql.connect(host='localhost',user='root',password='Lxk815714',port=3306,db='spiders')\n",
    "cursor = db.cursor()\n",
    "\n",
    "try:\n",
    "    cursor.execute(sql)\n",
    "    print('rowcounts:',cursor.rowcount)\n",
    "    results = cursor.fetchall()\n",
    "    print('resultstype;',type(results))\n",
    "    print('results;',results)\n",
    "    for row in results:\n",
    "        print(row)\n",
    "except:\n",
    "    print('Error')"
   ]
  },
  {
   "cell_type": "code",
   "execution_count": 28,
   "metadata": {},
   "outputs": [
    {
     "name": "stdout",
     "output_type": "stream",
     "text": [
      "row: ('2012002', 'Mary', 21)\n"
     ]
    }
   ],
   "source": [
    "try:\n",
    "    cursor.execute(sql)\n",
    "    row = cursor.fetchone()\n",
    "    while row:\n",
    "        print('row:',row)\n",
    "        row = cursor.fetchone()\n",
    "except:\n",
    "    print('Error')"
   ]
  },
  {
   "cell_type": "code",
   "execution_count": 29,
   "metadata": {
    "collapsed": true
   },
   "outputs": [],
   "source": [
    "# 数据库更新操作\n",
    "# 打开数据库连接\n",
    "db = pymysql.connect(host='localhost',user='root',password='Lxk815714',port=3306,db='spiders')\n",
    " \n",
    "# 使用cursor()方法获取操作游标 \n",
    "cursor = db.cursor()\n",
    " \n",
    "# SQL 更新语句\n",
    "sql = 'update students set age=%s where name=%s'\n",
    "try:\n",
    "   # 执行SQL语句\n",
    "   cursor.execute(sql,(25,Bob))\n",
    "   # 提交到数据库执行\n",
    "   db.commit()\n",
    "except:\n",
    "   # 发生错误时回滚\n",
    "   db.rollback()\n",
    "\n",
    "# 关闭数据库连接\n",
    "db.close()"
   ]
  },
  {
   "cell_type": "code",
   "execution_count": 36,
   "metadata": {},
   "outputs": [
    {
     "name": "stdout",
     "output_type": "stream",
     "text": [
      "failed\n"
     ]
    }
   ],
   "source": [
    "data = {'id':'20120001',\n",
    "       'name':'Bob',\n",
    "       'age':21}\n",
    "table = 'students'\n",
    "keys = ','.join(data.keys())\n",
    "values = ','.join(['%s']*len(data))\n",
    "sql = 'insert into {table}({keys}) values({values}) on duplicate key update'.format(table=table,keys=keys,values=values)\n",
    "update = ','.join(['{key}=%s'.format(key=key) for key in data])\n",
    "sql += update\n",
    "db = pymysql.connect(host='localhost',user='root',password='Lxk815714',port=3306,db='spiders')\n",
    "cursor = db.cursor()\n",
    "try:\n",
    "    if cursor.execute(sql,tuple(data.values())*2):\n",
    "        print('succeed')\n",
    "        db.commit()\n",
    "except:\n",
    "    print('failed')\n",
    "    db.rollback()\n",
    "db.close()"
   ]
  },
  {
   "cell_type": "code",
   "execution_count": 37,
   "metadata": {
    "collapsed": true
   },
   "outputs": [],
   "source": [
    "# 打开数据库连接\n",
    "db = pymysql.connect(host='localhost',user='root',password='Lxk815714',port=3306,db='spiders')\n",
    " \n",
    "# 使用cursor()方法获取操作游标 \n",
    "cursor = db.cursor()\n",
    " \n",
    "# SQL 删除语句\n",
    "sql = 'delete from students where age>=25'\n",
    "try:\n",
    "   # 执行SQL语句\n",
    "   cursor.execute(sql)\n",
    "   # 提交修改\n",
    "   db.commit()\n",
    "except:\n",
    "   # 发生错误时回滚\n",
    "   db.rollback()\n",
    "\n",
    "# 关闭连接\n",
    "db.close()"
   ]
  },
  {
   "cell_type": "code",
   "execution_count": 40,
   "metadata": {},
   "outputs": [
    {
     "name": "stdout",
     "output_type": "stream",
     "text": [
      "(('a1', 101, 'apple', Decimal('5.20')), ('a2', 103, 'apricot', Decimal('25.20')), ('b1', 101, 'blackberry', Decimal('10.20')), ('b2', 104, 'berry', Decimal('7.60')), ('b5', 107, 'xxxx', Decimal('3.60')), ('bs1', 102, 'orange', Decimal('11.20')), ('bs2', 105, 'melon', Decimal('8.20')), ('c0', 101, 'cherry', Decimal('3.20')), ('l2', 104, 'lemon', Decimal('6.40')), ('m1', 106, 'mango', Decimal('15.60')), ('m2', 105, 'xbabay', Decimal('2.60')), ('o2', 103, 'coconut', Decimal('9.20')), ('t1', 102, 'banana', Decimal('10.30')), ('t2', 102, 'grape', Decimal('5.30')), ('t4', 107, 'xbababa', Decimal('3.60')))\n"
     ]
    }
   ],
   "source": [
    "pgdb = pymysql.connect(host='localhost',user='root',password='Lxk815714',port=3306,db='pgdb')\n",
    "cursor = pgdb.cursor()\n",
    "sql = 'select * from fruits'\n",
    "try:\n",
    "    cursor.execute(sql)\n",
    "    result = cursor.fetchall()\n",
    "except:\n",
    "    print('failed')\n",
    "    pgdb.rollback()\n",
    "\n",
    "print(result)"
   ]
  },
  {
   "cell_type": "code",
   "execution_count": 43,
   "metadata": {},
   "outputs": [
    {
     "data": {
      "text/html": [
       "<div>\n",
       "<style scoped>\n",
       "    .dataframe tbody tr th:only-of-type {\n",
       "        vertical-align: middle;\n",
       "    }\n",
       "\n",
       "    .dataframe tbody tr th {\n",
       "        vertical-align: top;\n",
       "    }\n",
       "\n",
       "    .dataframe thead th {\n",
       "        text-align: right;\n",
       "    }\n",
       "</style>\n",
       "<table border=\"1\" class=\"dataframe\">\n",
       "  <thead>\n",
       "    <tr style=\"text-align: right;\">\n",
       "      <th></th>\n",
       "      <th>0</th>\n",
       "      <th>1</th>\n",
       "      <th>2</th>\n",
       "      <th>3</th>\n",
       "    </tr>\n",
       "  </thead>\n",
       "  <tbody>\n",
       "    <tr>\n",
       "      <th>0</th>\n",
       "      <td>a1</td>\n",
       "      <td>101</td>\n",
       "      <td>apple</td>\n",
       "      <td>5.20</td>\n",
       "    </tr>\n",
       "    <tr>\n",
       "      <th>1</th>\n",
       "      <td>a2</td>\n",
       "      <td>103</td>\n",
       "      <td>apricot</td>\n",
       "      <td>25.20</td>\n",
       "    </tr>\n",
       "    <tr>\n",
       "      <th>2</th>\n",
       "      <td>b1</td>\n",
       "      <td>101</td>\n",
       "      <td>blackberry</td>\n",
       "      <td>10.20</td>\n",
       "    </tr>\n",
       "    <tr>\n",
       "      <th>3</th>\n",
       "      <td>b2</td>\n",
       "      <td>104</td>\n",
       "      <td>berry</td>\n",
       "      <td>7.60</td>\n",
       "    </tr>\n",
       "    <tr>\n",
       "      <th>4</th>\n",
       "      <td>b5</td>\n",
       "      <td>107</td>\n",
       "      <td>xxxx</td>\n",
       "      <td>3.60</td>\n",
       "    </tr>\n",
       "    <tr>\n",
       "      <th>5</th>\n",
       "      <td>bs1</td>\n",
       "      <td>102</td>\n",
       "      <td>orange</td>\n",
       "      <td>11.20</td>\n",
       "    </tr>\n",
       "    <tr>\n",
       "      <th>6</th>\n",
       "      <td>bs2</td>\n",
       "      <td>105</td>\n",
       "      <td>melon</td>\n",
       "      <td>8.20</td>\n",
       "    </tr>\n",
       "    <tr>\n",
       "      <th>7</th>\n",
       "      <td>c0</td>\n",
       "      <td>101</td>\n",
       "      <td>cherry</td>\n",
       "      <td>3.20</td>\n",
       "    </tr>\n",
       "    <tr>\n",
       "      <th>8</th>\n",
       "      <td>l2</td>\n",
       "      <td>104</td>\n",
       "      <td>lemon</td>\n",
       "      <td>6.40</td>\n",
       "    </tr>\n",
       "    <tr>\n",
       "      <th>9</th>\n",
       "      <td>m1</td>\n",
       "      <td>106</td>\n",
       "      <td>mango</td>\n",
       "      <td>15.60</td>\n",
       "    </tr>\n",
       "    <tr>\n",
       "      <th>10</th>\n",
       "      <td>m2</td>\n",
       "      <td>105</td>\n",
       "      <td>xbabay</td>\n",
       "      <td>2.60</td>\n",
       "    </tr>\n",
       "    <tr>\n",
       "      <th>11</th>\n",
       "      <td>o2</td>\n",
       "      <td>103</td>\n",
       "      <td>coconut</td>\n",
       "      <td>9.20</td>\n",
       "    </tr>\n",
       "    <tr>\n",
       "      <th>12</th>\n",
       "      <td>t1</td>\n",
       "      <td>102</td>\n",
       "      <td>banana</td>\n",
       "      <td>10.30</td>\n",
       "    </tr>\n",
       "    <tr>\n",
       "      <th>13</th>\n",
       "      <td>t2</td>\n",
       "      <td>102</td>\n",
       "      <td>grape</td>\n",
       "      <td>5.30</td>\n",
       "    </tr>\n",
       "    <tr>\n",
       "      <th>14</th>\n",
       "      <td>t4</td>\n",
       "      <td>107</td>\n",
       "      <td>xbababa</td>\n",
       "      <td>3.60</td>\n",
       "    </tr>\n",
       "  </tbody>\n",
       "</table>\n",
       "</div>"
      ],
      "text/plain": [
       "      0    1           2      3\n",
       "0    a1  101       apple   5.20\n",
       "1    a2  103     apricot  25.20\n",
       "2    b1  101  blackberry  10.20\n",
       "3    b2  104       berry   7.60\n",
       "4    b5  107        xxxx   3.60\n",
       "5   bs1  102      orange  11.20\n",
       "6   bs2  105       melon   8.20\n",
       "7    c0  101      cherry   3.20\n",
       "8    l2  104       lemon   6.40\n",
       "9    m1  106       mango  15.60\n",
       "10   m2  105      xbabay   2.60\n",
       "11   o2  103     coconut   9.20\n",
       "12   t1  102      banana  10.30\n",
       "13   t2  102       grape   5.30\n",
       "14   t4  107     xbababa   3.60"
      ]
     },
     "execution_count": 43,
     "metadata": {},
     "output_type": "execute_result"
    }
   ],
   "source": [
    "import pandas as pd\n",
    "import numpy as np\n",
    "pd.DataFrame(list(result))"
   ]
  },
  {
   "cell_type": "code",
   "execution_count": 47,
   "metadata": {},
   "outputs": [
    {
     "name": "stdout",
     "output_type": "stream",
     "text": [
      "(('a1', 101, 'apple', '中'), ('a2', 103, 'apricot', '贵'), ('b1', 101, 'blackberry', '贵'), ('b2', 104, 'berry', '中'), ('b5', 107, 'xxxx', '便宜'), ('bs1', 102, 'orange', '贵'), ('bs2', 105, 'melon', '中'), ('c0', 101, 'cherry', '便宜'), ('l2', 104, 'lemon', '中'), ('m1', 106, 'mango', '贵'), ('m2', 105, 'xbabay', '便宜'), ('o2', 103, 'coconut', '中'), ('t1', 102, 'banana', '贵'), ('t2', 102, 'grape', '中'), ('t4', 107, 'xbababa', '便宜'))\n"
     ]
    }
   ],
   "source": [
    "sql = \"\"\" select f_id,s_id,f_name,\n",
    "case \n",
    "    when f_price>10 then '贵'\n",
    "    when f_price<5 then '便宜'\n",
    "    else '中'\n",
    "end as '价格水平'\n",
    "from fruits\"\"\"\n",
    "try:\n",
    "    cursor.execute(sql)\n",
    "    results = cursor.fetchall()\n",
    "except:\n",
    "    print('failed')\n",
    "    pgdb.rollback()\n",
    "print(results)\n",
    "# 获取字段名\n",
    "# select COLUMN_NAME from information_schema.COLUMNS where table_name = 'your_table_name';  "
   ]
  },
  {
   "cell_type": "code",
   "execution_count": 48,
   "metadata": {},
   "outputs": [
    {
     "name": "stdout",
     "output_type": "stream",
     "text": [
      "((101, '供应商01', '北京市'), (102, '供应商02', '北京市'), (103, '供应商03', '上海市'), (104, '供应商04', '北京市'), (105, '供应商05', '广州市'), (106, '供应商06', '保定市'), (107, '供应商07', '北京市'), (108, '供应商08', '石家庄市'), (109, '供应商09', '北京市'), (110, '供应商10', '地址未知'))\n"
     ]
    }
   ],
   "source": [
    "sql = \"\"\"select s_id,s_name,ifnull(s_city,'地址未知') from suppliers\"\"\"\n",
    "try:\n",
    "    cursor.execute(sql)\n",
    "    result = cursor.fetchall()\n",
    "except:\n",
    "    print('failed')\n",
    "    pgdb.rollback()\n",
    "print(result)"
   ]
  },
  {
   "cell_type": "code",
   "execution_count": 49,
   "metadata": {
    "collapsed": true
   },
   "outputs": [],
   "source": [
    "pgdb.close()"
   ]
  },
  {
   "cell_type": "code",
   "execution_count": 50,
   "metadata": {},
   "outputs": [
    {
     "data": {
      "text/plain": [
       "0"
      ]
     },
     "execution_count": 50,
     "metadata": {},
     "output_type": "execute_result"
    }
   ],
   "source": [
    "# 创建表\n",
    "sql = '''create table goodscolor(\n",
    "color_id varchar(6) primary key default '-',\n",
    "color_note varchar(20) not null default '-')'''\n",
    "db = pymysql.connect(host='localhost',user='root',password='Lxk815714',port=3306,db='test')\n",
    "cursor = db.cursor()\n",
    "cursor.execute(sql)"
   ]
  },
  {
   "cell_type": "code",
   "execution_count": null,
   "metadata": {
    "collapsed": true
   },
   "outputs": [],
   "source": [
    "#加载数据\n",
    "sql = \"\"\"load data local infile '/Users/brianlee/Desktop/MySQLdata/data/GoodsColor.txt'\n",
    "into table goodscolor\n",
    "fields terminated by '\\t'\n",
    "ignore 1 lines\"\"\"\n",
    "cursor.execute(sql)"
   ]
  },
  {
   "cell_type": "code",
   "execution_count": 53,
   "metadata": {
    "collapsed": true
   },
   "outputs": [],
   "source": [
    "db.close()"
   ]
  },
  {
   "cell_type": "code",
   "execution_count": 54,
   "metadata": {},
   "outputs": [
    {
     "name": "stdout",
     "output_type": "stream",
     "text": [
      "(('a1', 'apple', Decimal('5.20'), 101, '供应商01', '北京市'), ('a2', 'apricot', Decimal('25.20'), 103, '供应商03', '上海市'), ('b1', 'blackberry', Decimal('10.20'), 101, '供应商01', '北京市'), ('b2', 'berry', Decimal('7.60'), 104, '供应商04', '北京市'), ('b5', 'xxxx', Decimal('3.60'), 107, '供应商07', '北京市'), ('bs1', 'orange', Decimal('11.20'), 102, '供应商02', '北京市'), ('bs2', 'melon', Decimal('8.20'), 105, '供应商05', '广州市'), ('c0', 'cherry', Decimal('3.20'), 101, '供应商01', '北京市'), ('l2', 'lemon', Decimal('6.40'), 104, '供应商04', '北京市'), ('m1', 'mango', Decimal('15.60'), 106, '供应商06', '保定市'), ('m2', 'xbabay', Decimal('2.60'), 105, '供应商05', '广州市'), ('o2', 'coconut', Decimal('9.20'), 103, '供应商03', '上海市'), ('t1', 'banana', Decimal('10.30'), 102, '供应商02', '北京市'), ('t2', 'grape', Decimal('5.30'), 102, '供应商02', '北京市'), ('t4', 'xbababa', Decimal('3.60'), 107, '供应商07', '北京市'))\n"
     ]
    }
   ],
   "source": [
    "db = pymysql.connect(host='localhost',user='root',password='Lxk815714',port=3306,db='pgdb')\n",
    "cursor = db.cursor()\n",
    "sql = 'select f_id,f_name,f_price,s.s_id,s_name,s_city from fruits as f join suppliers as s on f.s_id=s.s_id'\n",
    "cursor.execute(sql)\n",
    "result = cursor.fetchall()\n",
    "print(result)"
   ]
  },
  {
   "cell_type": "code",
   "execution_count": 55,
   "metadata": {},
   "outputs": [
    {
     "name": "stdout",
     "output_type": "stream",
     "text": [
      "(('bs2', 'melon', Decimal('8.20'), 105, '供应商05', '广州市'),)\n"
     ]
    }
   ],
   "source": [
    "sql = \"\"\"select f_id,f_name,f_price,s.s_id,s_name,s_city \n",
    "from fruits as f right join suppliers as s \n",
    "on f.s_id=s.s_id \n",
    "where f_name='melon'\"\"\"\n",
    "cursor.execute(sql)\n",
    "result = cursor.fetchall()\n",
    "print(result)"
   ]
  },
  {
   "cell_type": "code",
   "execution_count": 56,
   "metadata": {},
   "outputs": [
    {
     "name": "stdout",
     "output_type": "stream",
     "text": [
      "(('a2', 103, 'apricot', Decimal('25.20')), ('b1', 101, 'blackberry', Decimal('10.20')), ('bs1', 102, 'orange', Decimal('11.20')), ('m1', 106, 'mango', Decimal('15.60')), ('o2', 103, 'coconut', Decimal('9.20')), ('t1', 102, 'banana', Decimal('10.30')))\n"
     ]
    }
   ],
   "source": [
    "sql = 'select * from fruits where f_price > (select avg(f_price) from fruits)'\n",
    "cursor.execute(sql)\n",
    "result = cursor.fetchall()\n",
    "print(result)"
   ]
  },
  {
   "cell_type": "code",
   "execution_count": 58,
   "metadata": {},
   "outputs": [
    {
     "name": "stdout",
     "output_type": "stream",
     "text": [
      "(('a1', 101, 'apple', Decimal('5.20')), ('b1', 101, 'blackberry', Decimal('10.20')), ('b2', 104, 'berry', Decimal('7.60')), ('b5', 107, 'xxxx', Decimal('3.60')), ('bs1', 102, 'orange', Decimal('11.20')), ('c0', 101, 'cherry', Decimal('3.20')), ('l2', 104, 'lemon', Decimal('6.40')), ('t1', 102, 'banana', Decimal('10.30')), ('t2', 102, 'grape', Decimal('5.30')), ('t4', 107, 'xbababa', Decimal('3.60')))\n"
     ]
    }
   ],
   "source": [
    "sql = 'select * from fruits where s_id in (select s_id from suppliers where s_city = \"北京市\")'\n",
    "cursor.execute(sql)\n",
    "result = cursor.fetchall()\n",
    "print(result)"
   ]
  },
  {
   "cell_type": "code",
   "execution_count": 59,
   "metadata": {},
   "outputs": [
    {
     "name": "stdout",
     "output_type": "stream",
     "text": [
      "(('a2', 103, 'apricot', Decimal('25.20')), ('bs1', 102, 'orange', Decimal('11.20')), ('m1', 106, 'mango', Decimal('15.60')), ('t1', 102, 'banana', Decimal('10.30')))\n"
     ]
    }
   ],
   "source": [
    "sql = 'select * from fruits where f_price > any(select f_price from fruits where f_price>10)'\n",
    "cursor.execute(sql)\n",
    "result = cursor.fetchall()\n",
    "print(result)"
   ]
  },
  {
   "cell_type": "code",
   "execution_count": 60,
   "metadata": {},
   "outputs": [
    {
     "name": "stdout",
     "output_type": "stream",
     "text": [
      "(('apple', Decimal('5.20')), ('apricot', Decimal('25.20')), ('blackberry', Decimal('10.20')), ('berry', Decimal('7.60')), ('xxxx', Decimal('3.60')), ('orange', Decimal('11.20')), ('melon', Decimal('8.20')), ('cherry', Decimal('3.20')), ('lemon', Decimal('6.40')), ('mango', Decimal('15.60')), ('xbabay', Decimal('2.60')), ('coconut', Decimal('9.20')), ('banana', Decimal('10.30')), ('grape', Decimal('5.30')), ('xbababa', Decimal('3.60')), ('北京市', Decimal('101.00')), ('北京市', Decimal('102.00')), ('上海市', Decimal('103.00')), ('北京市', Decimal('104.00')), ('广州市', Decimal('105.00')), ('保定市', Decimal('106.00')), ('北京市', Decimal('107.00')), ('石家庄市', Decimal('108.00')), ('北京市', Decimal('109.00')), (None, Decimal('110.00')))\n"
     ]
    }
   ],
   "source": [
    "sql = 'select f_name,f_price from fruits union select s_city,s_id from suppliers'\n",
    "cursor.execute(sql)\n",
    "result = cursor.fetchall()\n",
    "print(result)"
   ]
  },
  {
   "cell_type": "code",
   "execution_count": 61,
   "metadata": {},
   "outputs": [
    {
     "name": "stdout",
     "output_type": "stream",
     "text": [
      "(('a1', 101, 'apple', Decimal('5.20')), ('a2', 103, 'apricot', Decimal('25.20')), ('b1', 101, 'blackberry', Decimal('10.20')), ('b2', 104, 'berry', Decimal('7.60')), ('b5', 107, 'xxxx', Decimal('3.60')), ('bs1', 102, 'orange', Decimal('11.20')), ('bs2', 105, 'melon', Decimal('8.20')), ('c0', 101, 'cherry', Decimal('3.20')), ('l2', 104, 'lemon', Decimal('6.40')), ('m1', 106, 'mango', Decimal('15.60')), ('m2', 105, 'xbabay', Decimal('2.60')), ('o2', 103, 'coconut', Decimal('9.20')), ('t1', 102, 'banana', Decimal('10.30')), ('t2', 102, 'grape', Decimal('5.30')), ('t4', 107, 'xbababa', Decimal('3.60')))\n"
     ]
    }
   ],
   "source": [
    "sql = 'select * from fruits where exists (select f_price from fruits where f_price>25)'\n",
    "cursor.execute(sql)\n",
    "result = cursor.fetchall()\n",
    "print(result)"
   ]
  },
  {
   "cell_type": "code",
   "execution_count": null,
   "metadata": {
    "collapsed": true
   },
   "outputs": [],
   "source": []
  }
 ],
 "metadata": {
  "kernelspec": {
   "display_name": "Python 3",
   "language": "python",
   "name": "python3"
  },
  "language_info": {
   "codemirror_mode": {
    "name": "ipython",
    "version": 3
   },
   "file_extension": ".py",
   "mimetype": "text/x-python",
   "name": "python",
   "nbconvert_exporter": "python",
   "pygments_lexer": "ipython3",
   "version": "3.6.8"
  }
 },
 "nbformat": 4,
 "nbformat_minor": 2
}
